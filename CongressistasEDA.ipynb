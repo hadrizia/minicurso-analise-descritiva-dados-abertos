{
  "nbformat": 4,
  "nbformat_minor": 0,
  "metadata": {
    "colab": {
      "name": "CongressistasEDA.ipynb",
      "version": "0.3.2",
      "provenance": [],
      "collapsed_sections": [],
      "toc_visible": true,
      "include_colab_link": true
    },
    "kernelspec": {
      "name": "python3",
      "display_name": "Python 3"
    }
  },
  "cells": [
    {
      "cell_type": "markdown",
      "metadata": {
        "id": "view-in-github",
        "colab_type": "text"
      },
      "source": [
        "[View in Colaboratory](https://colab.research.google.com/github/hadrizia/minicurso-analise-descritiva-dados-abertos/blob/master/CongressistasEDA.ipynb)"
      ]
    },
    {
      "metadata": {
        "id": "3XUDm-qqrqAt",
        "colab_type": "text"
      },
      "cell_type": "markdown",
      "source": [
        "# Perfil dos Congressistas em 2014 e 2018\n",
        "** Autor: Hadrizia Santos** \n",
        "\n",
        "Nas eleições de 2018, o Senado Federal teve a maior renovação da história. Estima-se que a cada quatro senadores que tentaram a reeleição em 2018, apenas um conseguiu, acarretando em uma renovação de 85% do Senado. Esta informação pode gerar algumas perguntas sobre esta renovação: \n",
        "* Como se deu a renovação dos Deputados Federais da Câmara dos Deputados? \n",
        "* Qual é o perfil dos Congressistas que estão no poder hoje?\n",
        "* Qual é o perfil dos Congressistas eleitos em 2018? Existe alguma melhoria na diversidade quanto à cor, nacionalidade e ao gênero, por exemplo? "
      ]
    },
    {
      "metadata": {
        "id": "-HoLMZt1uFSb",
        "colab_type": "code",
        "colab": {}
      },
      "cell_type": "code",
      "source": [
        "import pandas as pd\n",
        "import io\n",
        "import requests\n",
        "\n",
        "url = \"https://raw.githubusercontent.com/hadrizia/minicurso-analise-descritiva-dados-abertos/master/data/congressistas-eleitos/eleicoes_2014_e_2018.csv\"\n",
        "s = requests.get(url).content\n",
        "data = pd.read_csv(io.StringIO(s.decode('utf-8')))"
      ],
      "execution_count": 0,
      "outputs": []
    },
    {
      "metadata": {
        "id": "vqdTQC6h9AEJ",
        "colab_type": "text"
      },
      "cell_type": "markdown",
      "source": [
        "## 1. Como se deu a renovação dos Deputados Federais da Câmara dos Deputados?"
      ]
    },
    {
      "metadata": {
        "id": "SSJCJKSb9Kw2",
        "colab_type": "code",
        "colab": {
          "base_uri": "https://localhost:8080/",
          "height": 68
        },
        "outputId": "20e9360e-3bb7-4a16-a0f8-8cf4e3af352a"
      },
      "cell_type": "code",
      "source": [
        "# Quantidade de deputados federais eleitos em 2018\n",
        "\n",
        "deputados_2018 = data.loc[(data['ano'] == 2018) & (data['descricao_cargo'] == 'DEPUTADO FEDERAL')]\n",
        "deputados_2018.head()\n",
        "\n",
        "quantidade_deputados_2018 = deputados_2018['nome_candidato.x'].count()\n",
        "print('Número de deputados eleitos em 2018: {}'.format(quantidade_deputados_2018))\n",
        "\n",
        "\n",
        "# Quantidade de deputados que se reelegeram em 2018\n",
        "\n",
        "deputados_reeleitos_2018 = data.loc[(data['ano'] == 2018) & (data['descricao_cargo'] == 'DEPUTADO FEDERAL') & (data['descricao_ocupacao'] == 'DEPUTADO')]\n",
        "deputados_reeleitos_2018.head()\n",
        "\n",
        "quantidade_deputados_reeleitos_2018 = deputados_reeleitos_2018['nome_candidato.x'].count()\n",
        "print('Número de deputados reeleitos em 2018: {}'.format(quantidade_deputados_reeleitos_2018))\n",
        "\n",
        "\n",
        "# Taxa de renovacao\n",
        "taxa_renovacao_camara = quantidade_deputados_reeleitos_2018 / float(quantidade_deputados_2018)\n",
        "print('Taxa de renovação: {:.2f}'.format(taxa_renovacao_camara))"
      ],
      "execution_count": 74,
      "outputs": [
        {
          "output_type": "stream",
          "text": [
            "Número de deputados eleitos em 2018: 513\n",
            "Número de deputados reeleitos em 2018: 236\n",
            "Taxa de renovação: 0.46\n"
          ],
          "name": "stdout"
        }
      ]
    },
    {
      "metadata": {
        "id": "EZnHRy1XDS_W",
        "colab_type": "code",
        "colab": {
          "base_uri": "https://localhost:8080/",
          "height": 170
        },
        "outputId": "8ac7ab8b-cc69-48ee-83b1-e97858a4a8ac"
      },
      "cell_type": "code",
      "source": [
        "import matplotlib.pyplot as pt\n",
        "deputados_reeleitos_2018.groupby('cor_raca').sexo.value_counts()\n",
        "#a = (deputados_reeleitos_2018['sexo']).value_counts()\n",
        "#pt.scatter(a['sexo'], a['total_votos'], color='orange')\n",
        "#a"
      ],
      "execution_count": 108,
      "outputs": [
        {
          "output_type": "execute_result",
          "data": {
            "text/plain": [
              "cor_raca  sexo     \n",
              "AMARELA   MASCULINO      1\n",
              "BRANCA    MASCULINO    159\n",
              "          FEMININO      24\n",
              "PARDA     MASCULINO     38\n",
              "          FEMININO       2\n",
              "PRETA     MASCULINO     10\n",
              "          FEMININO       2\n",
              "Name: sexo, dtype: int64"
            ]
          },
          "metadata": {
            "tags": []
          },
          "execution_count": 108
        }
      ]
    },
    {
      "metadata": {
        "id": "r7HUojfiAgDM",
        "colab_type": "text"
      },
      "cell_type": "markdown",
      "source": [
        "## 2. Qual é o perfil dos Congressistas que estão no poder hoje?\n",
        "\n",
        "Considerando os aspectos: sexo, cor_raca, nacionalidade"
      ]
    },
    {
      "metadata": {
        "id": "TcapuX5H1Znz",
        "colab_type": "code",
        "colab": {
          "base_uri": "https://localhost:8080/",
          "height": 187
        },
        "outputId": "b0907a7a-4184-486e-abb9-a3bdf366f45c"
      },
      "cell_type": "code",
      "source": [
        "(data.groupby('ano')['cor_raca']).value_counts()"
      ],
      "execution_count": 75,
      "outputs": [
        {
          "output_type": "execute_result",
          "data": {
            "text/plain": [
              "ano   cor_raca\n",
              "2014  BRANCA      433\n",
              "      PARDA        86\n",
              "      PRETA        21\n",
              "2018  BRANCA      425\n",
              "      PARDA       115\n",
              "      PRETA        24\n",
              "      AMARELA       2\n",
              "      INDÍGENA      1\n",
              "Name: cor_raca, dtype: int64"
            ]
          },
          "metadata": {
            "tags": []
          },
          "execution_count": 75
        }
      ]
    }
  ]
}